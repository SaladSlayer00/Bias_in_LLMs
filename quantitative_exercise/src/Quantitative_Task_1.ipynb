{
 "cells": [
  {
   "cell_type": "code",
   "execution_count": 1,
   "metadata": {
    "collapsed": true
   },
   "outputs": [],
   "source": [
    "import pandas as pd\n",
    "\n",
    "import seaborn as sns\n",
    "import matplotlib.pyplot as plt\n",
    "import scipy.stats as stats"
   ]
  },
  {
   "cell_type": "code",
   "execution_count": 2,
   "outputs": [
    {
     "data": {
      "text/plain": "    plant  weight group\n0       1    4.17  ctrl\n1       2    5.58  ctrl\n2       3    5.18  ctrl\n3       4    6.11  ctrl\n4       5    4.50  ctrl\n5       6    4.61  ctrl\n6       7    5.17  ctrl\n7       8    4.53  ctrl\n8       9    5.33  ctrl\n9      10    5.14  ctrl\n10     11    4.81  trt1\n11     12    4.17  trt1\n12     13    4.41  trt1\n13     14    3.59  trt1\n14     15    5.87  trt1\n15     16    3.83  trt1\n16     17    6.03  trt1\n17     18    4.89  trt1\n18     19    4.32  trt1\n19     20    4.69  trt1\n20     21    6.31  trt2\n21     22    5.12  trt2\n22     23    5.54  trt2\n23     24    5.50  trt2\n24     25    5.37  trt2\n25     26    5.29  trt2\n26     27    4.92  trt2\n27     28    6.15  trt2\n28     29    5.80  trt2\n29     30    5.26  trt2",
      "text/html": "<div>\n<style scoped>\n    .dataframe tbody tr th:only-of-type {\n        vertical-align: middle;\n    }\n\n    .dataframe tbody tr th {\n        vertical-align: top;\n    }\n\n    .dataframe thead th {\n        text-align: right;\n    }\n</style>\n<table border=\"1\" class=\"dataframe\">\n  <thead>\n    <tr style=\"text-align: right;\">\n      <th></th>\n      <th>plant</th>\n      <th>weight</th>\n      <th>group</th>\n    </tr>\n  </thead>\n  <tbody>\n    <tr>\n      <th>0</th>\n      <td>1</td>\n      <td>4.17</td>\n      <td>ctrl</td>\n    </tr>\n    <tr>\n      <th>1</th>\n      <td>2</td>\n      <td>5.58</td>\n      <td>ctrl</td>\n    </tr>\n    <tr>\n      <th>2</th>\n      <td>3</td>\n      <td>5.18</td>\n      <td>ctrl</td>\n    </tr>\n    <tr>\n      <th>3</th>\n      <td>4</td>\n      <td>6.11</td>\n      <td>ctrl</td>\n    </tr>\n    <tr>\n      <th>4</th>\n      <td>5</td>\n      <td>4.50</td>\n      <td>ctrl</td>\n    </tr>\n    <tr>\n      <th>5</th>\n      <td>6</td>\n      <td>4.61</td>\n      <td>ctrl</td>\n    </tr>\n    <tr>\n      <th>6</th>\n      <td>7</td>\n      <td>5.17</td>\n      <td>ctrl</td>\n    </tr>\n    <tr>\n      <th>7</th>\n      <td>8</td>\n      <td>4.53</td>\n      <td>ctrl</td>\n    </tr>\n    <tr>\n      <th>8</th>\n      <td>9</td>\n      <td>5.33</td>\n      <td>ctrl</td>\n    </tr>\n    <tr>\n      <th>9</th>\n      <td>10</td>\n      <td>5.14</td>\n      <td>ctrl</td>\n    </tr>\n    <tr>\n      <th>10</th>\n      <td>11</td>\n      <td>4.81</td>\n      <td>trt1</td>\n    </tr>\n    <tr>\n      <th>11</th>\n      <td>12</td>\n      <td>4.17</td>\n      <td>trt1</td>\n    </tr>\n    <tr>\n      <th>12</th>\n      <td>13</td>\n      <td>4.41</td>\n      <td>trt1</td>\n    </tr>\n    <tr>\n      <th>13</th>\n      <td>14</td>\n      <td>3.59</td>\n      <td>trt1</td>\n    </tr>\n    <tr>\n      <th>14</th>\n      <td>15</td>\n      <td>5.87</td>\n      <td>trt1</td>\n    </tr>\n    <tr>\n      <th>15</th>\n      <td>16</td>\n      <td>3.83</td>\n      <td>trt1</td>\n    </tr>\n    <tr>\n      <th>16</th>\n      <td>17</td>\n      <td>6.03</td>\n      <td>trt1</td>\n    </tr>\n    <tr>\n      <th>17</th>\n      <td>18</td>\n      <td>4.89</td>\n      <td>trt1</td>\n    </tr>\n    <tr>\n      <th>18</th>\n      <td>19</td>\n      <td>4.32</td>\n      <td>trt1</td>\n    </tr>\n    <tr>\n      <th>19</th>\n      <td>20</td>\n      <td>4.69</td>\n      <td>trt1</td>\n    </tr>\n    <tr>\n      <th>20</th>\n      <td>21</td>\n      <td>6.31</td>\n      <td>trt2</td>\n    </tr>\n    <tr>\n      <th>21</th>\n      <td>22</td>\n      <td>5.12</td>\n      <td>trt2</td>\n    </tr>\n    <tr>\n      <th>22</th>\n      <td>23</td>\n      <td>5.54</td>\n      <td>trt2</td>\n    </tr>\n    <tr>\n      <th>23</th>\n      <td>24</td>\n      <td>5.50</td>\n      <td>trt2</td>\n    </tr>\n    <tr>\n      <th>24</th>\n      <td>25</td>\n      <td>5.37</td>\n      <td>trt2</td>\n    </tr>\n    <tr>\n      <th>25</th>\n      <td>26</td>\n      <td>5.29</td>\n      <td>trt2</td>\n    </tr>\n    <tr>\n      <th>26</th>\n      <td>27</td>\n      <td>4.92</td>\n      <td>trt2</td>\n    </tr>\n    <tr>\n      <th>27</th>\n      <td>28</td>\n      <td>6.15</td>\n      <td>trt2</td>\n    </tr>\n    <tr>\n      <th>28</th>\n      <td>29</td>\n      <td>5.80</td>\n      <td>trt2</td>\n    </tr>\n    <tr>\n      <th>29</th>\n      <td>30</td>\n      <td>5.26</td>\n      <td>trt2</td>\n    </tr>\n  </tbody>\n</table>\n</div>"
     },
     "metadata": {},
     "output_type": "display_data"
    }
   ],
   "source": [
    "df = pd.read_csv(\"PlantGrowth.csv\",\n",
    "                 usecols=[0,1,2])\n",
    "df.rename(columns = {'rownames':'plant'}, inplace = True)\n",
    "display(df)"
   ],
   "metadata": {
    "collapsed": false
   }
  },
  {
   "cell_type": "markdown",
   "source": [
    "# **Explanatory Data Analysis (EDA)**\n",
    "<p style=\"font-size:18px;\">The following code displays the summary statistics calculated on the PlantGrowth dataset, and allows data visualization through a box plot.</p>"
   ],
   "metadata": {
    "collapsed": false
   }
  },
  {
   "cell_type": "code",
   "execution_count": 3,
   "outputs": [
    {
     "name": "stdout",
     "output_type": "stream",
     "text": [
      "       count   mean       std   min     25%    50%     75%   max\n",
      "group                                                           \n",
      "ctrl    10.0  5.032  0.583091  4.17  4.5500  5.155  5.2925  6.11\n",
      "trt1    10.0  4.661  0.793676  3.59  4.2075  4.550  4.8700  6.03\n",
      "trt2    10.0  5.526  0.442573  4.92  5.2675  5.435  5.7350  6.31\n"
     ]
    }
   ],
   "source": [
    "#Summary statistics\n",
    "print(df.groupby('group')['weight'].describe())"
   ],
   "metadata": {
    "collapsed": false
   }
  },
  {
   "cell_type": "code",
   "execution_count": 4,
   "outputs": [
    {
     "data": {
      "text/plain": "<Figure size 800x600 with 1 Axes>",
      "image/png": "[encoded data removed]"
     },
     "metadata": {},
     "output_type": "display_data"
    }
   ],
   "source": [
    "plt.figure(figsize=(8, 6))\n",
    "palette = ['blue', 'red', 'yellow']\n",
    "sns.boxplot(x='group', y='weight', data=df, hue = 'group', palette=palette)\n",
    "plt.xlabel(\"Treatment\")\n",
    "plt.ylabel(\"Plant Growth\")\n",
    "plt.title(\"Plant Growth by Treatment\")\n",
    "\n",
    "plt.show()"
   ],
   "metadata": {
    "collapsed": false
   }
  },
  {
   "cell_type": "markdown",
   "source": [
    "# **Statistical Analysis**\n",
    "<span style=\"font-size:18px;\">ANOVA Analysis has been performed in order to evaluate the differences in plant growth under different experimental treatments.</span>"
   ],
   "metadata": {
    "collapsed": false
   }
  },
  {
   "cell_type": "code",
   "execution_count": 5,
   "outputs": [
    {
     "name": "stdout",
     "output_type": "stream",
     "text": [
      "ANOVA p-value: 0.015909958325622895\n"
     ]
    }
   ],
   "source": [
    "#ANOVA to analyze differences between treatments\n",
    "anova_result = stats.f_oneway(df[df['group'] == 'ctrl']['weight'],\n",
    "                               df[df['group'] == 'trt1']['weight'],\n",
    "                               df[df['group'] == 'trt2']['weight'])\n",
    "print(\"ANOVA p-value:\", anova_result.pvalue)"
   ],
   "metadata": {
    "collapsed": false
   }
  },
  {
   "cell_type": "markdown",
   "source": [
    "<span style=\"font-size:18px;\">The p-value obtained indicates that there is strong evidence to reject the null hypothesis, meaning that there are statistically significant differences in plant growth among at least some of the treatment groups.</span>"
   ],
   "metadata": {
    "collapsed": false
   }
  },
  {
   "cell_type": "markdown",
   "source": [
    "<span style=\"font-size:18px;\">Tukey Honest Significant Difference (HSD) test was employed to further understand the nature of these differences.</span>"
   ],
   "metadata": {
    "collapsed": false
   }
  },
  {
   "cell_type": "code",
   "execution_count": 6,
   "outputs": [
    {
     "name": "stdout",
     "output_type": "stream",
     "text": [
      "Multiple Comparison of Means - Tukey HSD, FWER=0.05\n",
      "===================================================\n",
      "group1 group2 meandiff p-adj   lower  upper  reject\n",
      "---------------------------------------------------\n",
      "  ctrl   trt1   -0.371 0.3909 -1.0622 0.3202  False\n",
      "  ctrl   trt2    0.494  0.198 -0.1972 1.1852  False\n",
      "  trt1   trt2    0.865  0.012  0.1738 1.5562   True\n",
      "---------------------------------------------------\n"
     ]
    }
   ],
   "source": [
    "from statsmodels.formula.api import ols\n",
    "from statsmodels.stats.multicomp import pairwise_tukeyhsd\n",
    "\n",
    "#Fit the linear model ('weight' is the dependent variable, and 'group' is the independent variable).\n",
    "model = ols('weight ~ group', data=df).fit()\n",
    "\n",
    "#Tukey's HSD test\n",
    "tukey_results = pairwise_tukeyhsd(endog=df['weight'], groups=df['group'], alpha=0.05)\n",
    "\n",
    "print(tukey_results)"
   ],
   "metadata": {
    "collapsed": false
   }
  },
  {
   "cell_type": "markdown",
   "source": [
    "# **Conclusion**\n",
    "<span style=\"font-size:18px;\">The results of the test show that there is no significant difference between the \"ctrl\" treatment and the other two. While there is a significant distinction in plant growth between these two groups. The positive mean difference of 0.865 indicates that, on average, the \"trt2\" group has higher plant weights compared to the \"trt1\" group.</span>\n"
   ],
   "metadata": {
    "collapsed": false
   }
  }
 ],
 "metadata": {
  "kernelspec": {
   "display_name": "Python 3",
   "language": "python",
   "name": "python3"
  },
  "language_info": {
   "codemirror_mode": {
    "name": "ipython",
    "version": 2
   },
   "file_extension": ".py",
   "mimetype": "text/x-python",
   "name": "python",
   "nbconvert_exporter": "python",
   "pygments_lexer": "ipython2",
   "version": "2.7.6"
  }
 },
 "nbformat": 4,
 "nbformat_minor": 0
}
